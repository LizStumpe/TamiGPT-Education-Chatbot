{
 "cells": [
  {
   "cell_type": "markdown",
   "id": "9b4197c9-ad5b-470f-9211-dade8af7c78a",
   "metadata": {},
   "source": [
    "# Louisiana School System College Entrance Linear Regression"
   ]
  },
  {
   "cell_type": "markdown",
   "id": "711f7d5b-1492-44c7-96bd-865cc4757000",
   "metadata": {},
   "source": [
    "## Based on 5 years of average ACT composite scores for each LA School System "
   ]
  },
  {
   "cell_type": "markdown",
   "id": "0c406de8-5b86-4453-af11-07629bc98281",
   "metadata": {},
   "source": [
    "### Import necessary libraries and load dataset"
   ]
  },
  {
   "cell_type": "code",
   "execution_count": 1,
   "id": "a5d7ea5d-a24b-4f57-a41f-1830d5622228",
   "metadata": {},
   "outputs": [],
   "source": [
    "import pandas as pd \n",
    "import numpy as np\n",
    "import matplotlib.pyplot as plt\n",
    "from sklearn.linear_model import LinearRegression"
   ]
  },
  {
   "cell_type": "code",
   "execution_count": 2,
   "id": "4a1d56fe-2d62-4b26-ac0b-ee2892fab374",
   "metadata": {},
   "outputs": [],
   "source": [
    "df = pd.read_excel(\"C:/Users/eliza/Documents/Entity/Final Project/LA ACT & Graduation Rates.xlsx\")"
   ]
  },
  {
   "cell_type": "code",
   "execution_count": 3,
   "id": "9a224cf8-f46f-4d7f-80a5-145131e4a9fa",
   "metadata": {},
   "outputs": [
    {
     "data": {
      "text/html": [
       "<div>\n",
       "<style scoped>\n",
       "    .dataframe tbody tr th:only-of-type {\n",
       "        vertical-align: middle;\n",
       "    }\n",
       "\n",
       "    .dataframe tbody tr th {\n",
       "        vertical-align: top;\n",
       "    }\n",
       "\n",
       "    .dataframe thead th {\n",
       "        text-align: right;\n",
       "    }\n",
       "</style>\n",
       "<table border=\"1\" class=\"dataframe\">\n",
       "  <thead>\n",
       "    <tr style=\"text-align: right;\">\n",
       "      <th></th>\n",
       "      <th>school.system</th>\n",
       "      <th>test.year</th>\n",
       "      <th>avg.ACT.Composit</th>\n",
       "      <th>total.HS.Grads</th>\n",
       "      <th>college.enrollment.rate</th>\n",
       "    </tr>\n",
       "  </thead>\n",
       "  <tbody>\n",
       "    <tr>\n",
       "      <th>0</th>\n",
       "      <td>LOUISIANA STATE TOTAL</td>\n",
       "      <td>2017</td>\n",
       "      <td>19.6</td>\n",
       "      <td>40735</td>\n",
       "      <td>57.73168</td>\n",
       "    </tr>\n",
       "    <tr>\n",
       "      <th>1</th>\n",
       "      <td>LOUISIANA STATE TOTAL</td>\n",
       "      <td>2018</td>\n",
       "      <td>19.3</td>\n",
       "      <td>43707</td>\n",
       "      <td>57.40000</td>\n",
       "    </tr>\n",
       "    <tr>\n",
       "      <th>2</th>\n",
       "      <td>LOUISIANA STATE TOTAL</td>\n",
       "      <td>2019</td>\n",
       "      <td>18.9</td>\n",
       "      <td>43414</td>\n",
       "      <td>56.60000</td>\n",
       "    </tr>\n",
       "    <tr>\n",
       "      <th>3</th>\n",
       "      <td>LOUISIANA STATE TOTAL</td>\n",
       "      <td>2020</td>\n",
       "      <td>18.7</td>\n",
       "      <td>44343</td>\n",
       "      <td>53.80000</td>\n",
       "    </tr>\n",
       "    <tr>\n",
       "      <th>4</th>\n",
       "      <td>LOUISIANA STATE TOTAL</td>\n",
       "      <td>2021</td>\n",
       "      <td>18.2</td>\n",
       "      <td>41494</td>\n",
       "      <td>53.60000</td>\n",
       "    </tr>\n",
       "  </tbody>\n",
       "</table>\n",
       "</div>"
      ],
      "text/plain": [
       "           school.system  test.year  avg.ACT.Composit  total.HS.Grads  \\\n",
       "0  LOUISIANA STATE TOTAL       2017              19.6           40735   \n",
       "1  LOUISIANA STATE TOTAL       2018              19.3           43707   \n",
       "2  LOUISIANA STATE TOTAL       2019              18.9           43414   \n",
       "3  LOUISIANA STATE TOTAL       2020              18.7           44343   \n",
       "4  LOUISIANA STATE TOTAL       2021              18.2           41494   \n",
       "\n",
       "   college.enrollment.rate  \n",
       "0                 57.73168  \n",
       "1                 57.40000  \n",
       "2                 56.60000  \n",
       "3                 53.80000  \n",
       "4                 53.60000  "
      ]
     },
     "execution_count": 3,
     "metadata": {},
     "output_type": "execute_result"
    }
   ],
   "source": [
    "df.head()"
   ]
  },
  {
   "cell_type": "code",
   "execution_count": 4,
   "id": "1cf3352a-91b6-4db9-94a8-79e4779be019",
   "metadata": {},
   "outputs": [
    {
     "data": {
      "text/html": [
       "<div>\n",
       "<style scoped>\n",
       "    .dataframe tbody tr th:only-of-type {\n",
       "        vertical-align: middle;\n",
       "    }\n",
       "\n",
       "    .dataframe tbody tr th {\n",
       "        vertical-align: top;\n",
       "    }\n",
       "\n",
       "    .dataframe thead th {\n",
       "        text-align: right;\n",
       "    }\n",
       "</style>\n",
       "<table border=\"1\" class=\"dataframe\">\n",
       "  <thead>\n",
       "    <tr style=\"text-align: right;\">\n",
       "      <th></th>\n",
       "      <th>test.year</th>\n",
       "      <th>avg.ACT.Composit</th>\n",
       "      <th>total.HS.Grads</th>\n",
       "      <th>college.enrollment.rate</th>\n",
       "    </tr>\n",
       "  </thead>\n",
       "  <tbody>\n",
       "    <tr>\n",
       "      <th>count</th>\n",
       "      <td>350.000000</td>\n",
       "      <td>350.000000</td>\n",
       "      <td>350.000000</td>\n",
       "      <td>350.000000</td>\n",
       "    </tr>\n",
       "    <tr>\n",
       "      <th>mean</th>\n",
       "      <td>2019.000000</td>\n",
       "      <td>18.286000</td>\n",
       "      <td>1199.005714</td>\n",
       "      <td>53.972829</td>\n",
       "    </tr>\n",
       "    <tr>\n",
       "      <th>std</th>\n",
       "      <td>1.416238</td>\n",
       "      <td>1.470338</td>\n",
       "      <td>5056.952648</td>\n",
       "      <td>9.306126</td>\n",
       "    </tr>\n",
       "    <tr>\n",
       "      <th>min</th>\n",
       "      <td>2017.000000</td>\n",
       "      <td>14.400000</td>\n",
       "      <td>30.000000</td>\n",
       "      <td>30.600000</td>\n",
       "    </tr>\n",
       "    <tr>\n",
       "      <th>25%</th>\n",
       "      <td>2018.000000</td>\n",
       "      <td>17.325000</td>\n",
       "      <td>145.250000</td>\n",
       "      <td>47.700000</td>\n",
       "    </tr>\n",
       "    <tr>\n",
       "      <th>50%</th>\n",
       "      <td>2019.000000</td>\n",
       "      <td>18.400000</td>\n",
       "      <td>325.500000</td>\n",
       "      <td>53.891150</td>\n",
       "    </tr>\n",
       "    <tr>\n",
       "      <th>75%</th>\n",
       "      <td>2020.000000</td>\n",
       "      <td>19.200000</td>\n",
       "      <td>716.250000</td>\n",
       "      <td>59.675000</td>\n",
       "    </tr>\n",
       "    <tr>\n",
       "      <th>max</th>\n",
       "      <td>2021.000000</td>\n",
       "      <td>22.000000</td>\n",
       "      <td>44343.000000</td>\n",
       "      <td>97.500000</td>\n",
       "    </tr>\n",
       "  </tbody>\n",
       "</table>\n",
       "</div>"
      ],
      "text/plain": [
       "         test.year  avg.ACT.Composit  total.HS.Grads  college.enrollment.rate\n",
       "count   350.000000        350.000000      350.000000               350.000000\n",
       "mean   2019.000000         18.286000     1199.005714                53.972829\n",
       "std       1.416238          1.470338     5056.952648                 9.306126\n",
       "min    2017.000000         14.400000       30.000000                30.600000\n",
       "25%    2018.000000         17.325000      145.250000                47.700000\n",
       "50%    2019.000000         18.400000      325.500000                53.891150\n",
       "75%    2020.000000         19.200000      716.250000                59.675000\n",
       "max    2021.000000         22.000000    44343.000000                97.500000"
      ]
     },
     "execution_count": 4,
     "metadata": {},
     "output_type": "execute_result"
    }
   ],
   "source": [
    "#summary statistics of the dataset\n",
    "df.describe()"
   ]
  },
  {
   "cell_type": "code",
   "execution_count": 6,
   "id": "dbcff63d-4e74-412b-bb96-2767bb161306",
   "metadata": {},
   "outputs": [],
   "source": [
    "#changing test.year column from continuous into categorical \n",
    "df['test.year'] = df['test.year'].astype('object')"
   ]
  },
  {
   "cell_type": "code",
   "execution_count": 7,
   "id": "fb117bdf-f543-4a47-b249-8e06713568a6",
   "metadata": {},
   "outputs": [
    {
     "name": "stdout",
     "output_type": "stream",
     "text": [
      "<class 'pandas.core.frame.DataFrame'>\n",
      "RangeIndex: 350 entries, 0 to 349\n",
      "Data columns (total 5 columns):\n",
      " #   Column                   Non-Null Count  Dtype  \n",
      "---  ------                   --------------  -----  \n",
      " 0   school.system            350 non-null    object \n",
      " 1   test.year                350 non-null    object \n",
      " 2   avg.ACT.Composit         350 non-null    float64\n",
      " 3   total.HS.Grads           350 non-null    int64  \n",
      " 4   college.enrollment.rate  350 non-null    float64\n",
      "dtypes: float64(2), int64(1), object(2)\n",
      "memory usage: 13.8+ KB\n"
     ]
    }
   ],
   "source": [
    "#information about the dataset including the data types and number of non-null values\n",
    "df.info()"
   ]
  },
  {
   "cell_type": "markdown",
   "id": "166a7776-dfb2-4596-9e91-7a3a267fa61b",
   "metadata": {},
   "source": [
    "### Split the dataset into input (X) and output (Y) variables"
   ]
  },
  {
   "cell_type": "code",
   "execution_count": 8,
   "id": "e787563c-8c40-4da5-9532-3a57ac2438c4",
   "metadata": {},
   "outputs": [],
   "source": [
    "x = df[['avg.ACT.Composit', 'total.HS.Grads', 'college.enrollment.rate']]\n",
    "y = df['test.year']"
   ]
  },
  {
   "cell_type": "markdown",
   "id": "808b284e-41e1-4fe1-b163-636f3eee9dd2",
   "metadata": {},
   "source": [
    "### Create linear regression model"
   ]
  },
  {
   "cell_type": "code",
   "execution_count": 9,
   "id": "d5736113-5d3a-4dde-bddf-8330ec6937b5",
   "metadata": {
    "tags": []
   },
   "outputs": [
    {
     "data": {
      "text/html": [
       "<style>#sk-container-id-1 {color: black;background-color: white;}#sk-container-id-1 pre{padding: 0;}#sk-container-id-1 div.sk-toggleable {background-color: white;}#sk-container-id-1 label.sk-toggleable__label {cursor: pointer;display: block;width: 100%;margin-bottom: 0;padding: 0.3em;box-sizing: border-box;text-align: center;}#sk-container-id-1 label.sk-toggleable__label-arrow:before {content: \"▸\";float: left;margin-right: 0.25em;color: #696969;}#sk-container-id-1 label.sk-toggleable__label-arrow:hover:before {color: black;}#sk-container-id-1 div.sk-estimator:hover label.sk-toggleable__label-arrow:before {color: black;}#sk-container-id-1 div.sk-toggleable__content {max-height: 0;max-width: 0;overflow: hidden;text-align: left;background-color: #f0f8ff;}#sk-container-id-1 div.sk-toggleable__content pre {margin: 0.2em;color: black;border-radius: 0.25em;background-color: #f0f8ff;}#sk-container-id-1 input.sk-toggleable__control:checked~div.sk-toggleable__content {max-height: 200px;max-width: 100%;overflow: auto;}#sk-container-id-1 input.sk-toggleable__control:checked~label.sk-toggleable__label-arrow:before {content: \"▾\";}#sk-container-id-1 div.sk-estimator input.sk-toggleable__control:checked~label.sk-toggleable__label {background-color: #d4ebff;}#sk-container-id-1 div.sk-label input.sk-toggleable__control:checked~label.sk-toggleable__label {background-color: #d4ebff;}#sk-container-id-1 input.sk-hidden--visually {border: 0;clip: rect(1px 1px 1px 1px);clip: rect(1px, 1px, 1px, 1px);height: 1px;margin: -1px;overflow: hidden;padding: 0;position: absolute;width: 1px;}#sk-container-id-1 div.sk-estimator {font-family: monospace;background-color: #f0f8ff;border: 1px dotted black;border-radius: 0.25em;box-sizing: border-box;margin-bottom: 0.5em;}#sk-container-id-1 div.sk-estimator:hover {background-color: #d4ebff;}#sk-container-id-1 div.sk-parallel-item::after {content: \"\";width: 100%;border-bottom: 1px solid gray;flex-grow: 1;}#sk-container-id-1 div.sk-label:hover label.sk-toggleable__label {background-color: #d4ebff;}#sk-container-id-1 div.sk-serial::before {content: \"\";position: absolute;border-left: 1px solid gray;box-sizing: border-box;top: 0;bottom: 0;left: 50%;z-index: 0;}#sk-container-id-1 div.sk-serial {display: flex;flex-direction: column;align-items: center;background-color: white;padding-right: 0.2em;padding-left: 0.2em;position: relative;}#sk-container-id-1 div.sk-item {position: relative;z-index: 1;}#sk-container-id-1 div.sk-parallel {display: flex;align-items: stretch;justify-content: center;background-color: white;position: relative;}#sk-container-id-1 div.sk-item::before, #sk-container-id-1 div.sk-parallel-item::before {content: \"\";position: absolute;border-left: 1px solid gray;box-sizing: border-box;top: 0;bottom: 0;left: 50%;z-index: -1;}#sk-container-id-1 div.sk-parallel-item {display: flex;flex-direction: column;z-index: 1;position: relative;background-color: white;}#sk-container-id-1 div.sk-parallel-item:first-child::after {align-self: flex-end;width: 50%;}#sk-container-id-1 div.sk-parallel-item:last-child::after {align-self: flex-start;width: 50%;}#sk-container-id-1 div.sk-parallel-item:only-child::after {width: 0;}#sk-container-id-1 div.sk-dashed-wrapped {border: 1px dashed gray;margin: 0 0.4em 0.5em 0.4em;box-sizing: border-box;padding-bottom: 0.4em;background-color: white;}#sk-container-id-1 div.sk-label label {font-family: monospace;font-weight: bold;display: inline-block;line-height: 1.2em;}#sk-container-id-1 div.sk-label-container {text-align: center;}#sk-container-id-1 div.sk-container {/* jupyter's `normalize.less` sets `[hidden] { display: none; }` but bootstrap.min.css set `[hidden] { display: none !important; }` so we also need the `!important` here to be able to override the default hidden behavior on the sphinx rendered scikit-learn.org. See: https://github.com/scikit-learn/scikit-learn/issues/21755 */display: inline-block !important;position: relative;}#sk-container-id-1 div.sk-text-repr-fallback {display: none;}</style><div id=\"sk-container-id-1\" class=\"sk-top-container\"><div class=\"sk-text-repr-fallback\"><pre>LinearRegression()</pre><b>In a Jupyter environment, please rerun this cell to show the HTML representation or trust the notebook. <br />On GitHub, the HTML representation is unable to render, please try loading this page with nbviewer.org.</b></div><div class=\"sk-container\" hidden><div class=\"sk-item\"><div class=\"sk-estimator sk-toggleable\"><input class=\"sk-toggleable__control sk-hidden--visually\" id=\"sk-estimator-id-1\" type=\"checkbox\" checked><label for=\"sk-estimator-id-1\" class=\"sk-toggleable__label sk-toggleable__label-arrow\">LinearRegression</label><div class=\"sk-toggleable__content\"><pre>LinearRegression()</pre></div></div></div></div></div>"
      ],
      "text/plain": [
       "LinearRegression()"
      ]
     },
     "execution_count": 9,
     "metadata": {},
     "output_type": "execute_result"
    }
   ],
   "source": [
    "model = LinearRegression()\n",
    "model.fit(x, y)"
   ]
  },
  {
   "cell_type": "code",
   "execution_count": 11,
   "id": "7019a0ec-df61-4a53-b191-97b6bb62ec9b",
   "metadata": {},
   "outputs": [
    {
     "name": "stdout",
     "output_type": "stream",
     "text": [
      "R-squared value: 0.1255442572814871\n",
      "MSE value: 1.748911485437025\n",
      "RMSE value: 1.322464171702593\n"
     ]
    }
   ],
   "source": [
    "#R-squared value\n",
    "print('R-squared value:', model.score(x,y))\n",
    "\n",
    "#MSE value\n",
    "mse = np.mean((model.predict(x) - y) **2)\n",
    "print('MSE value:', mse)\n",
    "\n",
    "#RMSE value\n",
    "rmse = np.sqrt(mse)\n",
    "print('RMSE value:', rmse)"
   ]
  },
  {
   "cell_type": "code",
   "execution_count": 12,
   "id": "aa8d339e-db0e-4002-a2ed-ac85ac70b6ce",
   "metadata": {},
   "outputs": [
    {
     "data": {
      "image/png": "[encoded data removed]",
      "text/plain": [
       "<Figure size 432x288 with 1 Axes>"
      ]
     },
     "metadata": {
      "needs_background": "light"
     },
     "output_type": "display_data"
    }
   ],
   "source": [
    "plt.scatter(y, model.predict(x))\n",
    "plt.xlabel('Actual Test Year')\n",
    "plt.ylabel('Predicted Test Year')\n",
    "plt.show()"
   ]
  },
  {
   "cell_type": "markdown",
   "id": "79c4585f-594e-449c-a2a6-2944dab130ed",
   "metadata": {},
   "source": [
    "#### Based on the information provided in the dataframe, the results of this linear regression model indicate that there is a weak positive relationship between average ACT composite scores and the percentage of high school graduates enrolled in college. Only about 13% of the variation in college enrollment rates can be explained by the variation in ACT scores and the MSE and RMSE values indicate that the model has some degree of error. \n",
    "\n",
    "#### Based on the results it can be concluded that there is some association between ACT scores and college enrollment rates, there are likely other factors that play a larger role in determining whether or not sutdents enroll in college. Other variables to consider: socioeconomic status and access to resources\n",
    "\n",
    "#### Limitations of this dataset include that the percentage of students enrolled in college refer to any student that is enrolled in any higher education institution, not all of which take ACT scores into account. Collecting specific 2 year vs 4 year institution enrollment would aid in predicting the relationship between ACT scores and college enrollment. "
   ]
  },
  {
   "cell_type": "code",
   "execution_count": null,
   "id": "5909ead9-c472-4671-9b8c-a1692ab2581d",
   "metadata": {},
   "outputs": [],
   "source": []
  },
  {
   "cell_type": "code",
   "execution_count": null,
   "id": "ae0fbd2f-6479-45de-ad09-b429d8c0ce1f",
   "metadata": {},
   "outputs": [],
   "source": []
  }
 ],
 "metadata": {
  "kernelspec": {
   "display_name": "Python 3 (ipykernel)",
   "language": "python",
   "name": "python3"
  },
  "language_info": {
   "codemirror_mode": {
    "name": "ipython",
    "version": 3
   },
   "file_extension": ".py",
   "mimetype": "text/x-python",
   "name": "python",
   "nbconvert_exporter": "python",
   "pygments_lexer": "ipython3",
   "version": "3.10.5"
  }
 },
 "nbformat": 4,
 "nbformat_minor": 5
}
